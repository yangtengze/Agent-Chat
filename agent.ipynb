{
 "cells": [
  {
   "cell_type": "markdown",
   "metadata": {},
   "source": [
    "# LLM-Chat test"
   ]
  },
  {
   "cell_type": "code",
   "execution_count": 1,
   "metadata": {},
   "outputs": [],
   "source": [
    "api_key = \"\"  # 请填写您自己的APIKey"
   ]
  },
  {
   "cell_type": "code",
   "execution_count": 44,
   "metadata": {},
   "outputs": [
    {
     "name": "stdout",
     "output_type": "stream",
     "text": [
      "CompletionMessage(content='智启未来，谱绘无限可能——智谱AI，让智慧触手可及！', role='assistant', tool_calls=None)\n"
     ]
    }
   ],
   "source": [
    "from zhipuai import ZhipuAI\n",
    "client = ZhipuAI(api_key=api_key)  # 请填写您自己的APIKey\n",
    "response = client.chat.completions.create(\n",
    "    model=\"glm-4-flash\",  # 请填写您要调用的模型名称\n",
    "    messages=[\n",
    "        {\"role\": \"user\", \"content\": \"作为一名营销专家，请为我的产品创作一个吸引人的口号\"},\n",
    "        {\"role\": \"assistant\", \"content\": \"当然，要创作一个吸引人的口号，请告诉我一些关于您产品的信息\"},\n",
    "        {\"role\": \"user\", \"content\": \"智谱AI开放平台\"},\n",
    "        {\"role\": \"assistant\", \"content\": \"点燃未来，智谱AI绘制无限，让创新触手可及！\"},\n",
    "        {\"role\": \"user\", \"content\": \"创作一个更精准且吸引人的口号\"}\n",
    "    ],\n",
    ")\n",
    "print(response.choices[0].message)"
   ]
  },
  {
   "cell_type": "markdown",
   "metadata": {},
   "source": [
    "# Tools make"
   ]
  },
  {
   "cell_type": "markdown",
   "metadata": {},
   "source": [
    "## web search tool"
   ]
  },
  {
   "cell_type": "markdown",
   "metadata": {},
   "source": [
    "### web search api test"
   ]
  },
  {
   "cell_type": "code",
   "execution_count": 45,
   "metadata": {},
   "outputs": [],
   "source": [
    "import requests\n",
    "import uuid\n",
    "import json"
   ]
  },
  {
   "cell_type": "code",
   "execution_count": 46,
   "metadata": {},
   "outputs": [
    {
     "name": "stdout",
     "output_type": "stream",
     "text": [
      "data: {\"id\":\"20250106112858d31019a583f44569\",\"created\":1736134138201,\"model\":\"web-search-pro\",\"choices\":[{\"index\":0,\"delta\":{\"role\":\"tool\",\"tool_calls\":[{\"id\":\"20250106112858d31019a583f44569\",\"type\":\"search_intent\",\"search_intent\":[{\"index\":0,\"query\":\"中国队奥运会拿了多少奖牌\",\"intent\":\"SEARCH_ALL\",\"keywords\":\"中国队 奥运会 奖牌\",\"category\":\"\"}]}]}}]}\n",
      "\n",
      "data: {\"id\":\"20250106112858d31019a583f44569\",\"created\":1736134138584,\"model\":\"web-search-pro\",\"choices\":[{\"index\":0,\"finish_reason\":\"stop\",\"delta\":{\"role\":\"tool\",\"tool_calls\":[{\"id\":\"20250106112858d31019a583f44569\",\"type\":\"search_result\",\"search_result\":[{\"index\":0,\"title\":\"人民体谈：2024“成绩单”耀眼，体育强国建设迈向新高度（发布时间：2024-12-31 15:09:17）\",\"link\":\"https://sports.eastday.com/a/241231144318157706881.html\",\"content\":\"从领跑奥运奖牌榜，到全民涌动健身潮；从经典优势项目稳固领先，到新兴小众运动多点绽放2024年，锚定建设体育强国目标，中国体育全方位展现出蓬勃力量，昂首阔步走在通向体育强国的康庄大道上。\\n成绩单”耀眼，竞技体育迈向新高度。国家体育总局竞技体育司发布的《2024年我国运动员取得成绩报告》显示，今年我国运动员共在33个项目上获得194个世界冠军，其中，奥项世界冠军84个、非奥项世界冠军110个，数量创历年之最，同时创造19项世界纪录，一张张熠熠生辉的成绩单”，绘就2024体育领域精彩画卷。\\n回眸2024年体坛，最抢眼的非巴黎奥运会莫属。在本届奥运会上，中国体育代表团勇夺40金27银24铜共91枚奖牌，取得我国夏季奥运会境外参赛历史最好成绩。在射击、游泳、举重项目上，打破世界纪录1项、创造奥运会纪录9项次。中国队夺金运动员多达60名，留下了马龙成为奥运6金王、潘展乐霸气刷新纪录、郑钦文连胜强手的无数热血瞬间。其他赛场上，中国运动员的表现同样可圈可点。优势项目保持高水平，基础大项逆境中突破，新兴项目进步抢眼，中国体育健儿们以敢打必胜的决心，拼出了奋勇争先的意志、自我超越的勇气，也极大激发了中华儿女的爱国精神。\\n新答卷”喜人，全民健康跑出\",\"icon\":\"https://sfile.chatglm.cn/searchImage/sports_eastday_com_icon.jpg\",\"media\":\"东方体育\",\"refer\":\"ref_1\"},{\"index\":0,\"title\":\"体育强国建设迈出坚实一步——2024年中国体育十大新闻解读（发布时间：2024-12-28 15:19:08）\",\"link\":\"https://www.workercn.cn/c/2024-12-28/8424654.shtml\",\"content\":\"在7月26日至8月11日举行的巴黎奥运会上，中国体育代表团勇夺40金27银24铜共91枚奖牌，取得我国夏季奥运会境外参赛历史最好成绩。而中国队累计夺得的夏季奥运会金牌总数也突破300大关，达到303枚。\\n8月10日成为中国体育史上的标志性时刻。从1984年许海峰射落中国奥运第一金，到当天国乒女团以奥运五连冠斩落第300金，40年跨越，300金闪耀，折射着一代又一代奥运健儿的拼搏和汗水，见证着中国竞技体育不断勇攀高峰的历程，更成为中国社会飞速发展的一段生动写照。\\n在巴黎，中国队获得金牌的运动员达60名，创境外参赛历史新高，与2008年北京奥运会持平。女子拳击、花样游泳、艺术体操和自由式小轮车等项目均实现奥运金牌零突破”。此外，在射击、游泳、举重项目上，打破世界纪录1项、创造奥运会纪录9项次。\\n如果用一个词概括参赛成绩的特点，那就是‘突破’。”国家体育总局副局长、中国体育代表团副团长周进强说，此次中国队在参赛项目数量、金牌总数和质量、金牌项目覆盖面、培养输送金牌运动员省份数量等方面都实现了突破。\\n8月20日，中共中央总书记、国家主席、中央军委主席习近平在人民大会堂接见第33届夏季奥林匹克运动会中国体育代表团全体成员并发表重要讲话，高度评价\",\"icon\":\"https://sfile.chatglm.cn/searchImage/www_workercn_cn_icon.jpg\",\"media\":\"中工网\",\"refer\":\"ref_2\"},{\"index\":0,\"title\":\"体育强国建设迈出坚实一步——2024年中国体育十大新闻解读（发布时间：2024-12-28 09:42:00）\",\"link\":\"http://ent.people.com.cn/n1/2024/1228/c1012-40391344.html\",\"content\":\"在7月26日至8月11日举行的巴黎奥运会上，中国体育代表团勇夺40金27银24铜共91枚奖牌，取得我国夏季奥运会境外参赛历史最好成绩。而中国队累计夺得的夏季奥运会金牌总数也突破300大关，达到303枚。\\n7月26日，中国体育代表团旗手、乒乓球选手马龙在巴黎奥运会开幕式前挥舞国旗。新华社记者 曹灿 摄\\n8月10日成为中国体育史上的标志性时刻。从1984年许海峰射落中国奥运第一金，到当天国乒女团以奥运五连冠斩落第300金，40年跨越，300金闪耀，折射着一代又一代奥运健儿的拼搏和汗水，见证着中国竞技体育不断勇攀高峰的历程，更成为中国社会飞速发展的一段生动写照。\\n在巴黎，中国队获得金牌的运动员达60名，创境外参赛历史新高，与2008年北京奥运会持平。女子拳击、花样游泳、艺术体操和自由式小轮车等项目均实现奥运金牌零突破”。此外，在射击、游泳、举重项目上，打破世界纪录1项、创造奥运会纪录9项次。\\n如果用一个词概括参赛成绩的特点，那就是‘突破’。”国家体育总局副局长、中国体育代表团副团长周进强说，此次中国队在参赛项目数量、金牌总数和质量、金牌项目覆盖面、培养输送金牌运动员省份数量等方面都实现了突破。\\n8月20日，中共中央总书记、国家主席、中央军委\",\"refer\":\"ref_3\"},{\"index\":0,\"title\":\"（年终特稿）2024年，中国体育在突破中前行（发布时间：2024-12-19 03:08:47）\",\"link\":\"https://k.sina.com.cn/article_1784473157_6a5ce645020033cjy.html?cre=tianyi&mod=pcspth&loc=2&r=0&rfunc=71&tj=cxvertical_pc_spth&tr=12&from=sports&subch=osport\",\"content\":\"今夏的巴黎奥运会上，中国队斩获40金27银24铜共91枚奖牌，创造参加境外奥运会的最佳战绩。乒乓球、跳水梦之队”包揽全部金牌，中国射击队创奥运最好成绩，中国举重队6人出战获得5枚金牌，优势项目向更强”冲击。\\n中国奥运金牌家族”的成员越来越多。网球女单和混双披金戴银，花样游泳、艺术体操、女子拳击均实现奥运金牌零的突破，首登奥运舞台的中国自由式小轮车一举夺魁随着多个项目实现突破，在未来的奥运会上，中国体育潜在优势项目范围有望进一步扩大。\\n12月8日，2024-2025赛季国际滑联短道速滑世界巡回赛北京站在首都体育馆收官，中国队收获男子5000米接力金牌。中新社记者 赵文宇 摄\\n这个冰雪季，中国军团亦佳报频传。短道速滑世巡赛北京站日前落幕，中国队斩获3金2铜，王者之师”打出了士气。延庆雪游龙”赛道，赵丹为中国队夺得钢架雪车女子项目首枚世界杯金牌；单板滑雪平行大回转世界杯美林站，毕野获得男子平行大回转项目第四，创造中国队该项目历史最好成绩带着这些突破”，中国体育站上一个更高的起点。\\n这一年，中国体育的激情和魅力得到广泛共享，全民参与体育运动的热情进一步点燃，本土赛事带动消费新高潮。\\n当地时间8月3日，在巴黎奥运会网球女子单打比赛中，中国\",\"icon\":\"https://sfile.chatglm.cn/searchImage/k_sina_com_cn_icon.jpg\",\"media\":\"新浪\",\"refer\":\"ref_4\"}]}]}}],\"usage\":{\"prompt_tokens\":0,\"completion_tokens\":1200,\"total_tokens\":1200}}\n",
      "\n",
      "data: [DONE]\n",
      "\n",
      "\n"
     ]
    }
   ],
   "source": [
    "def run_v4_sync():\n",
    "    msg = [\n",
    "        {\n",
    "            \"role\": \"user\",\n",
    "            \"content\":\"中国队奥运会拿了多少奖牌\"\n",
    "        }\n",
    "    ]\n",
    "    tool = \"web-search-pro\"\n",
    "    url = \"https://open.bigmodel.cn/api/paas/v4/tools\"\n",
    "    request_id = str(uuid.uuid4())\n",
    "    data = {\n",
    "        \"request_id\": request_id,\n",
    "        \"tool\": tool,\n",
    "        \"stream\": True,\n",
    "        \"messages\": msg\n",
    "    }\n",
    "\n",
    "    resp = requests.post(\n",
    "        url,\n",
    "        json=data,\n",
    "        headers={'Authorization': api_key},\n",
    "        timeout=300\n",
    "    )\n",
    "    print(resp.content.decode())\n",
    "\n",
    "\n",
    "\n",
    "if __name__ == '__main__':\n",
    "    run_v4_sync()"
   ]
  },
  {
   "cell_type": "markdown",
   "metadata": {},
   "source": [
    "### web search api generate&parse"
   ]
  },
  {
   "cell_type": "code",
   "execution_count": 47,
   "metadata": {},
   "outputs": [],
   "source": [
    "def web_search_api(query):\n",
    "    msg = [\n",
    "        {\n",
    "            \"role\": \"user\",\n",
    "            \"content\":query\n",
    "        }\n",
    "    ]\n",
    "    tool = \"web-search-pro\"\n",
    "    url = \"https://open.bigmodel.cn/api/paas/v4/tools\"\n",
    "    request_id = str(uuid.uuid4())\n",
    "    data = {\n",
    "        \"request_id\": request_id,\n",
    "        \"tool\": tool,\n",
    "        \"stream\": False,\n",
    "        \"messages\": msg\n",
    "    }\n",
    "    resp = requests.post(\n",
    "        url,\n",
    "        json=data,\n",
    "        headers={'Authorization': api_key},\n",
    "        timeout=300\n",
    "    )\n",
    "    json_string = resp.content.decode()\n",
    "    json_data = json.loads(json_string)\n",
    "    search_intent = json_data['choices'][0]['message']['tool_calls'][0]['search_intent']\n",
    "    # print(search_intent)\n",
    "    search_result = json_data['choices'][0]['message']['tool_calls'][1]['search_result']\n",
    "    # for item in search_result:\n",
    "    #     print(item)\n",
    "    return search_result\n",
    "\n"
   ]
  },
  {
   "cell_type": "markdown",
   "metadata": {},
   "source": [
    "### tools make"
   ]
  },
  {
   "cell_type": "code",
   "execution_count": 48,
   "metadata": {},
   "outputs": [],
   "source": [
    "tools = [\n",
    "    {\n",
    "        \"type\": \"function\",\n",
    "        \"function\": {\n",
    "            \"name\": \"web_search_api\",\n",
    "            \"description\": \"根据原问题，从网上查询与原问题相关的信息\",\n",
    "            \"parameters\": {\n",
    "                \"type\": \"object\",\n",
    "                \"properties\": {\n",
    "                    \"query\": {\n",
    "                        \"description\": \"原问题\",\n",
    "                        \"type\": \"string\"\n",
    "                    },\n",
    "                },\n",
    "                \"required\": [ \"query\" ]\n",
    "            },\n",
    "        }\n",
    "    }\n",
    "]"
   ]
  },
  {
   "cell_type": "markdown",
   "metadata": {},
   "source": [
    "### tools parse function"
   ]
  },
  {
   "cell_type": "code",
   "execution_count": 49,
   "metadata": {},
   "outputs": [],
   "source": [
    "def parse_function_call(model_response,messages):\n",
    "    # 处理函数调用结果，根据模型返回参数，调用对应的函数。\n",
    "    # 调用函数返回结果后构造tool message，再次调用模型，将函数结果输入模型\n",
    "    # 模型会将函数调用结果以自然语言格式返回给用户。\n",
    "    if model_response.choices[0].message.tool_calls:\n",
    "        tool_call = model_response.choices[0].message.tool_calls[0]\n",
    "        args = tool_call.function.arguments\n",
    "        function_result = {}\n",
    "        if tool_call.function.name == \"web_search_api\":\n",
    "            function_result = web_search_api(**json.loads(args))\n",
    "        messages.append({\n",
    "            \"role\": \"tool\",\n",
    "            \"content\": f\"{json.dumps(function_result)}\",\n",
    "            \"tool_call_id\":tool_call.id\n",
    "        })\n",
    "        response = client.chat.completions.create(\n",
    "            model=\"glm-4-flash\",  # 填写需要调用的模型名称\n",
    "            messages=messages,\n",
    "            tools=tools,\n",
    "        )\n",
    "        # print(response.choices[0].message)\n",
    "        print(response.choices[0].message.content)\n",
    "        messages.append(response.choices[0].message.model_dump())"
   ]
  },
  {
   "cell_type": "markdown",
   "metadata": {},
   "source": [
    "## web get tool"
   ]
  },
  {
   "cell_type": "markdown",
   "metadata": {},
   "source": [
    "### text split"
   ]
  },
  {
   "cell_type": "code",
   "execution_count": 26,
   "metadata": {},
   "outputs": [
    {
     "name": "stdout",
     "output_type": "stream",
     "text": [
      "['自然语言', '计算机', '语言', '理解', '人类']\n"
     ]
    }
   ],
   "source": [
    "import jieba\n",
    "import jieba.analyse\n",
    "\n",
    "def get_keywords_chinese(text):\n",
    "    # 使用 jieba 提取关键词\n",
    "    keywords = jieba.analyse.extract_tags(text, topK=5)\n",
    "    return keywords\n",
    "\n",
    "# 示例文本\n",
    "text = \"自然语言处理使计算机能够理解人类的语言。这个领域正在迅速发展。\"\n",
    "print(get_keywords_chinese(text))\n"
   ]
  },
  {
   "cell_type": "markdown",
   "metadata": {},
   "source": [
    "# LLM Generate"
   ]
  },
  {
   "cell_type": "code",
   "execution_count": 50,
   "metadata": {},
   "outputs": [],
   "source": [
    "query = '邯郸今天天气怎么样'"
   ]
  },
  {
   "cell_type": "code",
   "execution_count": 51,
   "metadata": {},
   "outputs": [
    {
     "name": "stdout",
     "output_type": "stream",
     "text": [
      "CompletionMessage(content=None, role='assistant', tool_calls=[CompletionMessageToolCall(id='call_-9095618577474462898', function=Function(arguments='{\"query\": \"邯郸今天天气\"}', name='web_search_api'), type='function', index=0)])\n",
      "根据查询结果，邯郸今天天气为晴，气温5.2℃，东北风2级，湿度20%，空气质量为46。\n"
     ]
    }
   ],
   "source": [
    "from zhipuai import ZhipuAI\n",
    "client = ZhipuAI(api_key=api_key)  # 请填写您自己的APIKey\n",
    "messages = []\n",
    "messages.append({\"role\": \"system\", \"content\": \"你是一个能进行web search的agent,不要假设或猜测传入函数的参数值。如果用户的描述不明确，请要求用户提供必要信息\"})\n",
    "messages.append({\"role\": \"user\", \"content\": query})\n",
    "\n",
    "response = client.chat.completions.create(\n",
    "    model=\"glm-4-flash\",  # 请填写您要调用的模型名称\n",
    "    messages=messages,\n",
    "    tools=tools\n",
    ")\n",
    "print(response.choices[0].message)\n",
    "messages.append(response.choices[0].message.model_dump())\n",
    "# print(response.choices[0].message.model_dump())\n",
    "parse_function_call(response,messages)"
   ]
  }
 ],
 "metadata": {
  "kernelspec": {
   "display_name": "rag-chat",
   "language": "python",
   "name": "python3"
  },
  "language_info": {
   "codemirror_mode": {
    "name": "ipython",
    "version": 3
   },
   "file_extension": ".py",
   "mimetype": "text/x-python",
   "name": "python",
   "nbconvert_exporter": "python",
   "pygments_lexer": "ipython3",
   "version": "3.10.15"
  }
 },
 "nbformat": 4,
 "nbformat_minor": 2
}
